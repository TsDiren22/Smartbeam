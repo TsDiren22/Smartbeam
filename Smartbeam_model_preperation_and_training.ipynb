{
 "cells": [
  {
   "cell_type": "markdown",
   "metadata": {},
   "source": [
    "# Labeling videos\n",
    "* Manually going through every frame of the video\n",
    "* Selecting numbers 0-4 every frame based on the amount of lights turned on in the frame\n",
    "* Based on the selected number, the frame will be saved with the following naming format: \n",
    "    * [name of the video]\\_[the sequence of the frame]\\_[amount of visible lights].jpg"
   ]
  },
  {
   "cell_type": "code",
   "execution_count": 6,
   "metadata": {},
   "outputs": [],
   "source": [
    "import cv2\n",
    "import os\n",
    "\n",
    "# Function to label frames manually\n",
    "def label_frames(video_path, output_folder):\n",
    "    cap = cv2.VideoCapture(video_path)\n",
    "\n",
    "    video_name = video_path.split('/')[-1]\n",
    "\n",
    "    # Create output folder if it doesn't exist\n",
    "    if not os.path.exists(output_folder):\n",
    "        os.makedirs(output_folder)\n",
    "\n",
    "    frame_count = int(cap.get(cv2.CAP_PROP_FRAME_COUNT))\n",
    "    current_frame = 0\n",
    "\n",
    "    while True:\n",
    "        ret, frame = cap.read()\n",
    "\n",
    "        if not ret:\n",
    "            print(\"Can't receive frame (stream end?). Exiting ...\")\n",
    "            break\n",
    "\n",
    "        # Display the frame and get user input\n",
    "        cv2.imshow(\"Frame\", frame)\n",
    "        key = cv2.waitKey(0) & 0xFF\n",
    "\n",
    "        # amount of lights turned on\n",
    "        if key == ord('0'):\n",
    "            label = '0'\n",
    "        elif key == ord('1'):\n",
    "            label = '1'\n",
    "        elif key == ord('2'):\n",
    "            label = '2'\n",
    "        elif key == ord('3'):\n",
    "            label = '3'\n",
    "        elif key == ord('4'):\n",
    "            label = '4'\n",
    "        elif key == ord('q'):\n",
    "            break\n",
    "        else:\n",
    "            label = 'skip'\n",
    "\n",
    "        # Save the labeled frame\n",
    "        frame_filename = os.path.join(output_folder, f\"{video_name}_{current_frame:05d}_{label}.jpg\")\n",
    "        cv2.imwrite(frame_filename, frame)\n",
    "\n",
    "        current_frame += 1\n",
    "\n",
    "        # Break the loop if all frames are labeled\n",
    "        if current_frame == frame_count:\n",
    "            break\n",
    "\n",
    "    cap.release()\n",
    "    cv2.destroyAllWindows()\n",
    "\n",
    "# Example usage\n",
    "video_path = './vidscapstone/vid8.mp4'\n",
    "output_folder = 'labeled_frames'\n",
    "\n",
    "label_frames(video_path, output_folder)"
   ]
  },
  {
   "cell_type": "markdown",
   "metadata": {},
   "source": [
    "# Loading frames\n",
    "* The images (frames) are all read and put in an array, along with the corresponding label\n",
    "* The label is whatever amount of lights are turned on in the current frame\n",
    "* The label is taken from the last part of the image name\n",
    "* To get a dataset with no overrepresented values, labels 2 and 4 are limited to 30 occurences\n",
    "* The dataset is created to train and test with"
   ]
  },
  {
   "cell_type": "code",
   "execution_count": 13,
   "metadata": {},
   "outputs": [],
   "source": [
    "from sklearn.model_selection import train_test_split\n",
    "from sklearn.utils import shuffle\n",
    "import os\n",
    "from glob import glob\n",
    "import cv2\n",
    "import numpy as np\n",
    "\n",
    "# Load labeled frames and their corresponding labels\n",
    "def load_labeled_frames(data_folder):\n",
    "    images = []\n",
    "    labels = []\n",
    "\n",
    "    label_2_count = 0\n",
    "    label_4_count = 0\n",
    "\n",
    "    for image_path in glob(os.path.join(data_folder, '*.jpg')):\n",
    "        image = cv2.imread(image_path)\n",
    "        image = cv2.resize(image, (100, 100))\n",
    "\n",
    "        label = os.path.splitext(os.path.basename(image_path))[0].split('_')[-1]\n",
    "\n",
    "\n",
    "        if (label_4_count < 30 or label != '4') and (label_2_count < 30 or label != '2'):\n",
    "            images.append(image)\n",
    "\n",
    "        if label == '0':\n",
    "            labels.append(0)\n",
    "        elif label == '1':\n",
    "            labels.append(1)\n",
    "        elif label == '2':\n",
    "            if label_2_count < 30:\n",
    "                labels.append(2)\n",
    "                label_2_count += 1\n",
    "        elif label == '3':\n",
    "            labels.append(3)\n",
    "        elif label == '4':\n",
    "            if label_4_count < 30:\n",
    "                labels.append(4)\n",
    "                label_4_count += 1\n",
    "\n",
    "    return images, labels\n",
    "\n",
    "# Preprocess the data\n",
    "def preprocess_data(images, labels):\n",
    "    images = np.array(images)\n",
    "    labels = np.array(labels)\n",
    "\n",
    "    # Normalize pixel values to be between 0 and 1\n",
    "    images = images / 255.0\n",
    "\n",
    "    # Shuffle and split the data into training and testing sets\n",
    "    images, labels = shuffle(images, labels, random_state=46)\n",
    "    X_train, X_test, y_train, y_test = train_test_split(images, labels, test_size=0.2, random_state=45)\n",
    "\n",
    "    return X_train, X_test, y_train, y_test"
   ]
  },
  {
   "cell_type": "markdown",
   "metadata": {},
   "source": [
    "# Setup\n",
    "* The functions to create the dataset are called\n",
    "* Due to a small dataset, the dataset is duplicated\n",
    "* The y-values are converted to categorical data, instead of numerical data"
   ]
  },
  {
   "cell_type": "code",
   "execution_count": 20,
   "metadata": {},
   "outputs": [],
   "source": [
    "import tensorflow as tf\n",
    "\n",
    "# Example usage\n",
    "output_folder = 'labeled_frames'\n",
    "\n",
    "# Load labeled frames and their corresponding labels\n",
    "images, labels = load_labeled_frames(output_folder)\n",
    "\n",
    "images = images * 2\n",
    "labels = labels * 2\n",
    "\n",
    "# Preprocess the data\n",
    "X_train, X_test, y_train, y_test = preprocess_data(images, labels)\n",
    "\n",
    "input_shape = X_train[0].shape\n",
    "\n",
    "# Convert labels to one-hot encoding\n",
    "y_train_one_hot = tf.keras.utils.to_categorical(y_train, num_classes=5)\n",
    "y_test_one_hot = tf.keras.utils.to_categorical(y_test, num_classes=5)\n",
    "\n"
   ]
  },
  {
   "cell_type": "markdown",
   "metadata": {},
   "source": [
    "# Bar plot with balanced data"
   ]
  },
  {
   "cell_type": "code",
   "execution_count": 21,
   "metadata": {},
   "outputs": [
    {
     "data": {
      "image/png": "[encoded data removed]",
      "text/plain": [
       "<Figure size 1000x500 with 2 Axes>"
      ]
     },
     "metadata": {},
     "output_type": "display_data"
    }
   ],
   "source": [
    "# Bar plots of the number of training and testing examples for each class\n",
    "import matplotlib.pyplot as plt\n",
    "import numpy as np\n",
    "\n",
    "# Count the number of training and testing examples for each class\n",
    "train_counts = np.bincount(y_train_one_hot.argmax(axis=1))\n",
    "test_counts = np.bincount(y_test_one_hot.argmax(axis=1))\n",
    "\n",
    "# Plot bar plots\n",
    "plt.figure(figsize=(10, 5))\n",
    "plt.subplot(1, 2, 1)\n",
    "plt.bar(np.arange(5), train_counts)\n",
    "plt.xticks(np.arange(5))\n",
    "plt.xlabel('Class')\n",
    "plt.ylabel('Training Examples')\n",
    "plt.title('Training Data')\n",
    "\n",
    "plt.subplot(1, 2, 2)\n",
    "plt.bar(np.arange(5), test_counts)\n",
    "plt.xticks(np.arange(5))\n",
    "plt.xlabel('Class')\n",
    "plt.ylabel('Testing Examples')\n",
    "plt.title('Testing Data')\n",
    "\n",
    "plt.show()"
   ]
  },
  {
   "cell_type": "markdown",
   "metadata": {},
   "source": [
    "# Model creation and training\n",
    "* Model is created with the necessary layers\n",
    "* Five Softmax neurons for the 5 available categories\n",
    "* Compiled with the Adam optimizer\n",
    "* Trained on  10 epochs\n",
    "* Training history is saved"
   ]
  },
  {
   "cell_type": "code",
   "execution_count": 31,
   "metadata": {},
   "outputs": [
    {
     "name": "stdout",
     "output_type": "stream",
     "text": [
      "Epoch 1/10\n",
      "7/7 [==============================] - 4s 369ms/step - loss: 1.3783 - accuracy: 0.5714 - auc: 0.7974 - mean_squared_error: 0.1387 - val_loss: 0.8448 - val_accuracy: 0.6863 - val_auc: 0.9324 - val_mean_squared_error: 0.0818\n",
      "Epoch 2/10\n",
      "7/7 [==============================] - 3s 374ms/step - loss: 0.5924 - accuracy: 0.8030 - auc: 0.9646 - mean_squared_error: 0.0606 - val_loss: 0.3386 - val_accuracy: 0.8824 - val_auc: 0.9903 - val_mean_squared_error: 0.0395\n",
      "Epoch 3/10\n",
      "7/7 [==============================] - 3s 379ms/step - loss: 0.1579 - accuracy: 0.9557 - auc: 0.9971 - mean_squared_error: 0.0171 - val_loss: 0.0248 - val_accuracy: 1.0000 - val_auc: 1.0000 - val_mean_squared_error: 9.6607e-04\n",
      "Epoch 4/10\n",
      "7/7 [==============================] - 3s 436ms/step - loss: 0.0281 - accuracy: 0.9951 - auc: 1.0000 - mean_squared_error: 0.0024 - val_loss: 0.0327 - val_accuracy: 1.0000 - val_auc: 1.0000 - val_mean_squared_error: 0.0033\n",
      "Epoch 5/10\n",
      "7/7 [==============================] - 3s 382ms/step - loss: 0.0168 - accuracy: 0.9951 - auc: 1.0000 - mean_squared_error: 0.0017 - val_loss: 0.0288 - val_accuracy: 1.0000 - val_auc: 1.0000 - val_mean_squared_error: 0.0028\n",
      "Epoch 6/10\n",
      "7/7 [==============================] - 2s 330ms/step - loss: 0.0084 - accuracy: 0.9951 - auc: 1.0000 - mean_squared_error: 8.2784e-04 - val_loss: 0.0064 - val_accuracy: 1.0000 - val_auc: 1.0000 - val_mean_squared_error: 1.9028e-04\n",
      "Epoch 7/10\n",
      "7/7 [==============================] - 3s 459ms/step - loss: 0.0041 - accuracy: 1.0000 - auc: 1.0000 - mean_squared_error: 2.4021e-04 - val_loss: 0.0040 - val_accuracy: 1.0000 - val_auc: 1.0000 - val_mean_squared_error: 8.2789e-05\n",
      "Epoch 8/10\n",
      "7/7 [==============================] - 3s 371ms/step - loss: 9.3587e-04 - accuracy: 1.0000 - auc: 1.0000 - mean_squared_error: 9.4835e-06 - val_loss: 0.0023 - val_accuracy: 1.0000 - val_auc: 1.0000 - val_mean_squared_error: 2.8777e-05\n",
      "Epoch 9/10\n",
      "7/7 [==============================] - 3s 390ms/step - loss: 7.3336e-04 - accuracy: 1.0000 - auc: 1.0000 - mean_squared_error: 3.9366e-06 - val_loss: 0.0015 - val_accuracy: 1.0000 - val_auc: 1.0000 - val_mean_squared_error: 1.3560e-05\n",
      "Epoch 10/10\n",
      "7/7 [==============================] - 2s 355ms/step - loss: 4.5743e-04 - accuracy: 1.0000 - auc: 1.0000 - mean_squared_error: 1.0775e-06 - val_loss: 0.0011 - val_accuracy: 1.0000 - val_auc: 1.0000 - val_mean_squared_error: 6.8619e-06\n"
     ]
    }
   ],
   "source": [
    "from tensorflow.keras import layers, models\n",
    "from tensorflow.keras.optimizers import Adam\n",
    "\n",
    "# Build the model\n",
    "model = models.Sequential()\n",
    "model.add(layers.Conv2D(64, (3, 3), activation='relu', input_shape=input_shape))\n",
    "model.add(layers.MaxPooling2D((2, 2)))\n",
    "model.add(layers.Conv2D(32, (3, 3), activation='relu'))\n",
    "model.add(layers.Flatten())\n",
    "model.add(layers.Dense(5, activation='softmax')) \n",
    "\n",
    "# Compile the model\n",
    "model.compile(optimizer=Adam(learning_rate=0.001),\n",
    "              loss='categorical_crossentropy',  # Use categorical crossentropy for multiclass classification\n",
    "              metrics=['accuracy', 'AUC', 'MeanSquaredError'])\n",
    "\n",
    "# Train the model\n",
    "history = model.fit(X_train, y_train_one_hot, epochs=10, validation_data=(X_test, y_test_one_hot))\n",
    "\n"
   ]
  },
  {
   "cell_type": "markdown",
   "metadata": {},
   "source": [
    "# Saving the necessary values"
   ]
  },
  {
   "cell_type": "code",
   "execution_count": 32,
   "metadata": {},
   "outputs": [],
   "source": [
    "import pickle\n",
    "\n",
    "model.save('multiclass_classification_model_Adam.h5')\n",
    "\n",
    "with open('multiclass_classification_model_Adam_history', 'wb') as file_pi:\n",
    "    pickle.dump(history, file_pi)\n",
    "\n",
    "with open('multiclass_classification_model_Adam_X_test', 'wb') as file_pi:\n",
    "    pickle.dump(X_test, file_pi)\n",
    "\n",
    "with open('multiclass_classification_model_Adam_y_test', 'wb') as file_pi:\n",
    "    pickle.dump(y_test_one_hot, file_pi)"
   ]
  }
 ],
 "metadata": {
  "kernelspec": {
   "display_name": "smartbeam",
   "language": "python",
   "name": "python3"
  },
  "language_info": {
   "codemirror_mode": {
    "name": "ipython",
    "version": 3
   },
   "file_extension": ".py",
   "mimetype": "text/x-python",
   "name": "python",
   "nbconvert_exporter": "python",
   "pygments_lexer": "ipython3",
   "version": "3.11.5"
  }
 },
 "nbformat": 4,
 "nbformat_minor": 2
}
