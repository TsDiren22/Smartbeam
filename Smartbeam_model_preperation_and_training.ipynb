{
 "cells": [
  {
   "cell_type": "markdown",
   "metadata": {},
   "source": [
    "# Labeling videos\n",
    "* Manually going through every frame of the video\n",
    "* Selecting numbers 0-4 every frame based on the amount of lights turned on in the frame\n",
    "* Based on the selected number, the frame will be saved with the following naming format: \n",
    "    * [name of the video]\\_[the sequence of the frame]\\_[amount of visible lights].jpg"
   ]
  },
  {
   "cell_type": "code",
   "execution_count": 1,
   "metadata": {},
   "outputs": [],
   "source": [
    "import cv2\n",
    "import os\n",
    "\n",
    "# Function to label frames manually\n",
    "def label_frames(video_path, output_folder):\n",
    "    cap = cv2.VideoCapture(video_path)\n",
    "\n",
    "    video_name = video_path.split('/')[-1]\n",
    "\n",
    "    # Create output folder if it doesn't exist\n",
    "    if not os.path.exists(output_folder):\n",
    "        os.makedirs(output_folder)\n",
    "\n",
    "    frame_count = int(cap.get(cv2.CAP_PROP_FRAME_COUNT))\n",
    "    current_frame = 0\n",
    "\n",
    "    while True:\n",
    "        ret, frame = cap.read()\n",
    "\n",
    "        if not ret:\n",
    "            print(\"Can't receive frame (stream end?). Exiting ...\")\n",
    "            break\n",
    "\n",
    "        # Display the frame and get user input\n",
    "        cv2.imshow(\"Frame\", frame)\n",
    "        key = cv2.waitKey(0) & 0xFF\n",
    "\n",
    "        # amount of lights turned on\n",
    "        if key == ord('0'):\n",
    "            label = '0'\n",
    "        elif key == ord('1'):\n",
    "            label = '1'\n",
    "        elif key == ord('2'):\n",
    "            label = '2'\n",
    "        elif key == ord('3'):\n",
    "            label = '3'\n",
    "        elif key == ord('4'):\n",
    "            label = '4'\n",
    "        elif key == ord('q'):\n",
    "            break\n",
    "        else:\n",
    "            label = 'skip'\n",
    "\n",
    "        # Save the labeled frame\n",
    "        frame_filename = os.path.join(output_folder, f\"{video_name}_{current_frame:05d}_{label}.jpg\")\n",
    "        cv2.imwrite(frame_filename, frame)\n",
    "\n",
    "        current_frame += 1\n",
    "\n",
    "        # Break the loop if all frames are labeled\n",
    "        if current_frame == frame_count:\n",
    "            break\n",
    "\n",
    "    cap.release()\n",
    "    cv2.destroyAllWindows()\n",
    "\n",
    "# Example usage\n",
    "video_path = './vidscapstone/test.mp4'\n",
    "output_folder = 'labeled_frames_test'\n",
    "\n",
    "label_frames(video_path, output_folder)"
   ]
  },
  {
   "cell_type": "markdown",
   "metadata": {},
   "source": [
    "# Loading frames\n",
    "* The images (frames) are all read and put in an array, along with the corresponding label\n",
    "* The label is whatever amount of lights are turned on in the current frame\n",
    "* The label is taken from the last part of the image name\n",
    "* To get a dataset with no overrepresented values, labels 2 and 4 are limited to 30 occurences\n",
    "* The dataset is created to train and test with"
   ]
  },
  {
   "cell_type": "code",
   "execution_count": 4,
   "metadata": {},
   "outputs": [],
   "source": [
    "from sklearn.model_selection import train_test_split\n",
    "from sklearn.utils import shuffle\n",
    "import os\n",
    "from glob import glob\n",
    "import cv2\n",
    "import numpy as np\n",
    "\n",
    "# Load labeled frames and their corresponding labels\n",
    "def load_labeled_frames(data_folder):\n",
    "    images = []\n",
    "    labels = []\n",
    "\n",
    "    label_2_count = 0\n",
    "    label_4_count = 0\n",
    "\n",
    "    for image_path in glob(os.path.join(data_folder, '*.jpg')):\n",
    "        image = cv2.imread(image_path)\n",
    "        image = cv2.resize(image, (100, 100))\n",
    "\n",
    "        label = os.path.splitext(os.path.basename(image_path))[0].split('_')[-1]\n",
    "\n",
    "\n",
    "        if (label_4_count < 30 or label != '4') and (label_2_count < 30 or label != '2'):\n",
    "            images.append(image)\n",
    "\n",
    "        if label == '0':\n",
    "            labels.append(0)\n",
    "        elif label == '1':\n",
    "            labels.append(1)\n",
    "        elif label == '2':\n",
    "            if label_2_count < 30:\n",
    "                labels.append(2)\n",
    "                label_2_count += 1\n",
    "        elif label == '3':\n",
    "            labels.append(3)\n",
    "        elif label == '4':\n",
    "            if label_4_count < 30:\n",
    "                labels.append(4)\n",
    "                label_4_count += 1\n",
    "\n",
    "    return images, labels\n",
    "\n",
    "# Preprocess the data\n",
    "def preprocess_data(images, labels):\n",
    "    images = np.array(images)\n",
    "    labels = np.array(labels)\n",
    "\n",
    "    # Normalize pixel values to be between 0 and 1\n",
    "    images = images / 255.0\n",
    "\n",
    "    # Shuffle and split the data into training and testing sets\n",
    "    images, labels = shuffle(images, labels, random_state=46)\n",
    "    X_train, X_test, y_train, y_test = train_test_split(images, labels, test_size=0.2, random_state=45)\n",
    "\n",
    "    return X_train, X_test, y_train, y_test"
   ]
  },
  {
   "cell_type": "markdown",
   "metadata": {},
   "source": [
    "# Setup\n",
    "* The functions to create the dataset are called\n",
    "* Due to a small dataset, the dataset is duplicated\n",
    "* The y-values are converted to categorical data, instead of numerical data"
   ]
  },
  {
   "cell_type": "code",
   "execution_count": 9,
   "metadata": {},
   "outputs": [],
   "source": [
    "import tensorflow as tf\n",
    "\n",
    "# Example usage\n",
    "output_folder = 'labeled_frames'\n",
    "output_folder2 = 'labeled_frames_test'\n",
    "\n",
    "# Load labeled frames and their corresponding labels\n",
    "images, labels = load_labeled_frames(output_folder)\n",
    "images2, labels2 = load_labeled_frames(output_folder2)\n",
    "\n",
    "# images = images * 2\n",
    "# labels = labels * 2\n",
    "\n",
    "# Preprocess the data\n",
    "X_train, X_test, y_train, y_test = preprocess_data(images, labels)\n",
    "\n",
    "input_shape = X_train[0].shape\n",
    "\n",
    "# Convert labels to one-hot encoding\n",
    "y_train_one_hot = tf.keras.utils.to_categorical(y_train, num_classes=5)\n",
    "y_test_one_hot = tf.keras.utils.to_categorical(y_test, num_classes=5)\n",
    "\n"
   ]
  },
  {
   "cell_type": "markdown",
   "metadata": {},
   "source": [
    "# Bar plot with balanced data"
   ]
  },
  {
   "cell_type": "code",
   "execution_count": 10,
   "metadata": {},
   "outputs": [
    {
     "data": {
      "image/png": "[encoded data removed]",
      "text/plain": [
       "<Figure size 1000x500 with 2 Axes>"
      ]
     },
     "metadata": {},
     "output_type": "display_data"
    }
   ],
   "source": [
    "# Bar plots of the number of training and testing examples for each class\n",
    "import matplotlib.pyplot as plt\n",
    "import numpy as np\n",
    "\n",
    "# Count the number of training and testing examples for each class\n",
    "train_counts = np.bincount(y_train_one_hot.argmax(axis=1))\n",
    "test_counts = np.bincount(y_test_one_hot.argmax(axis=1))\n",
    "\n",
    "# Plot bar plots\n",
    "plt.figure(figsize=(10, 5))\n",
    "plt.subplot(1, 2, 1)\n",
    "plt.bar(np.arange(5), train_counts)\n",
    "plt.xticks(np.arange(5))\n",
    "plt.xlabel('Class')\n",
    "plt.ylabel('Training Examples')\n",
    "plt.title('Training Data')\n",
    "\n",
    "plt.subplot(1, 2, 2)\n",
    "plt.bar(np.arange(5), test_counts)\n",
    "plt.xticks(np.arange(5))\n",
    "plt.xlabel('Class')\n",
    "plt.ylabel('Testing Examples')\n",
    "plt.title('Testing Data')\n",
    "\n",
    "plt.show()"
   ]
  },
  {
   "cell_type": "markdown",
   "metadata": {},
   "source": [
    "# Model creation and training\n",
    "* Model is created with the necessary layers\n",
    "* Five Softmax neurons for the 5 available categories\n",
    "* Compiled with the Adam optimizer\n",
    "* Trained on  10 epochs\n",
    "* Training history is saved"
   ]
  },
  {
   "cell_type": "code",
   "execution_count": 11,
   "metadata": {},
   "outputs": [
    {
     "name": "stdout",
     "output_type": "stream",
     "text": [
      "Epoch 1/10\n",
      "4/4 [==============================] - 5s 859ms/step - loss: 1.5704 - accuracy: 0.4653 - auc: 0.7394 - mean_squared_error: 0.1568 - val_loss: 1.3779 - val_accuracy: 0.6538 - val_auc: 0.8872 - val_mean_squared_error: 0.1395\n",
      "Epoch 2/10\n",
      "4/4 [==============================] - 2s 505ms/step - loss: 1.2066 - accuracy: 0.7129 - auc: 0.9372 - mean_squared_error: 0.1212 - val_loss: 0.9793 - val_accuracy: 0.6538 - val_auc: 0.9003 - val_mean_squared_error: 0.0989\n",
      "Epoch 3/10\n",
      "4/4 [==============================] - 2s 503ms/step - loss: 0.7111 - accuracy: 0.7228 - auc: 0.9515 - mean_squared_error: 0.0691 - val_loss: 0.7897 - val_accuracy: 0.8077 - val_auc: 0.9229 - val_mean_squared_error: 0.0782\n",
      "Epoch 4/10\n",
      "4/4 [==============================] - 2s 487ms/step - loss: 0.3415 - accuracy: 0.9406 - auc: 0.9912 - mean_squared_error: 0.0347 - val_loss: 0.5033 - val_accuracy: 0.9231 - val_auc: 0.9560 - val_mean_squared_error: 0.0370\n",
      "Epoch 5/10\n",
      "4/4 [==============================] - 2s 446ms/step - loss: 0.1224 - accuracy: 0.9802 - auc: 0.9995 - mean_squared_error: 0.0106 - val_loss: 0.5689 - val_accuracy: 0.8846 - val_auc: 0.9438 - val_mean_squared_error: 0.0417\n",
      "Epoch 6/10\n",
      "4/4 [==============================] - 2s 444ms/step - loss: 0.0287 - accuracy: 1.0000 - auc: 1.0000 - mean_squared_error: 0.0018 - val_loss: 0.8035 - val_accuracy: 0.8846 - val_auc: 0.9471 - val_mean_squared_error: 0.0454\n",
      "Epoch 7/10\n",
      "4/4 [==============================] - 2s 434ms/step - loss: 0.0159 - accuracy: 1.0000 - auc: 1.0000 - mean_squared_error: 0.0011 - val_loss: 0.8530 - val_accuracy: 0.8846 - val_auc: 0.9471 - val_mean_squared_error: 0.0421\n",
      "Epoch 8/10\n",
      "4/4 [==============================] - 2s 447ms/step - loss: 0.0092 - accuracy: 1.0000 - auc: 1.0000 - mean_squared_error: 4.9410e-04 - val_loss: 1.2094 - val_accuracy: 0.8462 - val_auc: 0.9460 - val_mean_squared_error: 0.0495\n",
      "Epoch 9/10\n",
      "4/4 [==============================] - 2s 432ms/step - loss: 0.0037 - accuracy: 1.0000 - auc: 1.0000 - mean_squared_error: 1.1553e-04 - val_loss: 1.4748 - val_accuracy: 0.8462 - val_auc: 0.9467 - val_mean_squared_error: 0.0585\n",
      "Epoch 10/10\n",
      "4/4 [==============================] - 2s 437ms/step - loss: 0.0014 - accuracy: 1.0000 - auc: 1.0000 - mean_squared_error: 1.2753e-05 - val_loss: 1.5193 - val_accuracy: 0.8462 - val_auc: 0.9475 - val_mean_squared_error: 0.0565\n"
     ]
    }
   ],
   "source": [
    "from tensorflow.keras import layers, models\n",
    "from tensorflow.keras.optimizers import Adam\n",
    "\n",
    "# Build the model\n",
    "model = models.Sequential()\n",
    "model.add(layers.Conv2D(64, (3, 3), activation='relu', input_shape=input_shape))\n",
    "model.add(layers.MaxPooling2D((2, 2)))\n",
    "model.add(layers.Conv2D(32, (3, 3), activation='relu'))\n",
    "model.add(layers.Flatten())\n",
    "model.add(layers.Dense(5, activation='softmax')) \n",
    "\n",
    "# Compile the model\n",
    "model.compile(optimizer=Adam(learning_rate=0.001),\n",
    "              loss='categorical_crossentropy',  # Use categorical crossentropy for multiclass classification\n",
    "              metrics=['accuracy', 'AUC', 'MeanSquaredError'])\n",
    "\n",
    "# Train the model\n",
    "history = model.fit(X_train, y_train_one_hot, epochs=10, validation_data=(X_test, y_test_one_hot))\n",
    "\n"
   ]
  },
  {
   "cell_type": "markdown",
   "metadata": {},
   "source": [
    "# Saving the necessary values"
   ]
  },
  {
   "cell_type": "code",
   "execution_count": 12,
   "metadata": {},
   "outputs": [
    {
     "name": "stderr",
     "output_type": "stream",
     "text": [
      "C:\\Users\\diren\\AppData\\Roaming\\Python\\Python311\\site-packages\\keras\\src\\engine\\training.py:3079: UserWarning: You are saving your model as an HDF5 file via `model.save()`. This file format is considered legacy. We recommend using instead the native Keras format, e.g. `model.save('my_model.keras')`.\n",
      "  saving_api.save_model(\n"
     ]
    }
   ],
   "source": [
    "import pickle\n",
    "\n",
    "directory = 'testing_multiclass_classification/'\n",
    "\n",
    "model.save(directory + 'testing_multiclass_classification_model_Adam.h5')\n",
    "\n",
    "with open(directory + 'testing_multiclass_classification_model_Adam_history', 'wb') as file_pi:\n",
    "    pickle.dump(history, file_pi)\n",
    "\n",
    "with open(directory + 'testing_multiclass_classification_model_Adam_X_test', 'wb') as file_pi:\n",
    "    pickle.dump(X_test, file_pi)\n",
    "\n",
    "with open(directory + 'testing_multiclass_classification_model_Adam_y_test', 'wb') as file_pi:\n",
    "    pickle.dump(y_test_one_hot, file_pi)"
   ]
  },
  {
   "cell_type": "code",
   "execution_count": 9,
   "metadata": {},
   "outputs": [
    {
     "ename": "ModuleNotFoundError",
     "evalue": "No module named 'object_detection'",
     "output_type": "error",
     "traceback": [
      "\u001b[1;31m---------------------------------------------------------------------------\u001b[0m",
      "\u001b[1;31mModuleNotFoundError\u001b[0m                       Traceback (most recent call last)",
      "\u001b[1;32mc:\\Users\\diren\\OneDrive\\Bureaublad\\Jaar 4\\Minor\\Smartbeam\\Smartbeam_model_preperation_and_training.ipynb Cell 13\u001b[0m line \u001b[0;36m4\n\u001b[0;32m      <a href='vscode-notebook-cell:/c%3A/Users/diren/OneDrive/Bureaublad/Jaar%204/Minor/Smartbeam/Smartbeam_model_preperation_and_training.ipynb#X15sZmlsZQ%3D%3D?line=1'>2</a>\u001b[0m \u001b[39mimport\u001b[39;00m \u001b[39mnumpy\u001b[39;00m \u001b[39mas\u001b[39;00m \u001b[39mnp\u001b[39;00m\n\u001b[0;32m      <a href='vscode-notebook-cell:/c%3A/Users/diren/OneDrive/Bureaublad/Jaar%204/Minor/Smartbeam/Smartbeam_model_preperation_and_training.ipynb#X15sZmlsZQ%3D%3D?line=2'>3</a>\u001b[0m \u001b[39mimport\u001b[39;00m \u001b[39mtensorflow\u001b[39;00m \u001b[39mas\u001b[39;00m \u001b[39mtf\u001b[39;00m\n\u001b[1;32m----> <a href='vscode-notebook-cell:/c%3A/Users/diren/OneDrive/Bureaublad/Jaar%204/Minor/Smartbeam/Smartbeam_model_preperation_and_training.ipynb#X15sZmlsZQ%3D%3D?line=3'>4</a>\u001b[0m \u001b[39mfrom\u001b[39;00m \u001b[39mobject_detection\u001b[39;00m\u001b[39m.\u001b[39;00m\u001b[39mutils\u001b[39;00m \u001b[39mimport\u001b[39;00m visualization_utils \u001b[39mas\u001b[39;00m vis_util\n\u001b[0;32m      <a href='vscode-notebook-cell:/c%3A/Users/diren/OneDrive/Bureaublad/Jaar%204/Minor/Smartbeam/Smartbeam_model_preperation_and_training.ipynb#X15sZmlsZQ%3D%3D?line=4'>5</a>\u001b[0m \u001b[39mfrom\u001b[39;00m \u001b[39mobject_detection\u001b[39;00m\u001b[39m.\u001b[39;00m\u001b[39mutils\u001b[39;00m \u001b[39mimport\u001b[39;00m label_map_util\n\u001b[0;32m      <a href='vscode-notebook-cell:/c%3A/Users/diren/OneDrive/Bureaublad/Jaar%204/Minor/Smartbeam/Smartbeam_model_preperation_and_training.ipynb#X15sZmlsZQ%3D%3D?line=6'>7</a>\u001b[0m \u001b[39m# Load the pre-trained model and label map\u001b[39;00m\n",
      "\u001b[1;31mModuleNotFoundError\u001b[0m: No module named 'object_detection'"
     ]
    }
   ],
   "source": [
    "import cv2\n",
    "import numpy as np\n",
    "import tensorflow as tf\n",
    "from object_detection.utils import visualization_utils as vis_util\n",
    "from object_detection.utils import label_map_util\n",
    "\n",
    "# Load the pre-trained model and label map\n",
    "model_path = 'path/to/your/model'\n",
    "label_map_path = 'path/to/your/label_map.pbtxt'\n",
    "category_index = label_map_util.create_category_index_from_labelmap(label_map_path, use_display_name=True)\n",
    "detection_model = tf.saved_model.load(model_path)\n",
    "\n",
    "# Process a sample frame\n",
    "video_path = 'path/to/your/video.mp4'\n",
    "cap = cv2.VideoCapture(video_path)\n",
    "ret, frame = cap.read()\n",
    "\n",
    "# Convert the frame to a TensorFlow tensor\n",
    "input_tensor = tf.convert_to_tensor(frame[tf.newaxis, ...])\n",
    "\n",
    "# Make predictions\n",
    "detections = detection_model(input_tensor)\n",
    "\n",
    "# Visualize the detections (optional)\n",
    "vis_util.visualize_boxes_and_labels_on_image_array(\n",
    "    frame,\n",
    "    np.squeeze(detections['detection_boxes'].numpy()),\n",
    "    np.squeeze(detections['detection_classes'].numpy()).astype(np.int32),\n",
    "    np.squeeze(detections['detection_scores'].numpy()),\n",
    "    category_index,\n",
    "    use_normalized_coordinates=True,\n",
    "    max_boxes_to_draw=200,  # You can adjust this parameter based on your requirements\n",
    "    min_score_thresh=0.3,  # You can adjust this threshold based on your requirements\n",
    "    agnostic_mode=False,\n",
    ")\n",
    "\n",
    "# Display the visualized frame (optional)\n",
    "cv2.imshow('Object Detection', frame)\n",
    "cv2.waitKey(0)\n",
    "cv2.destroyAllWindows()\n",
    "\n",
    "# Get the number of ROIs for this frame\n",
    "num_rois = len(np.squeeze(detections['detection_boxes'].numpy()))\n",
    "print(f'Number of ROIs: {num_rois}')\n"
   ]
  },
  {
   "cell_type": "code",
   "execution_count": null,
   "metadata": {},
   "outputs": [],
   "source": []
  }
 ],
 "metadata": {
  "kernelspec": {
   "display_name": "smartbeam",
   "language": "python",
   "name": "python3"
  },
  "language_info": {
   "codemirror_mode": {
    "name": "ipython",
    "version": 3
   },
   "file_extension": ".py",
   "mimetype": "text/x-python",
   "name": "python",
   "nbconvert_exporter": "python",
   "pygments_lexer": "ipython3",
   "version": "3.11.6"
  }
 },
 "nbformat": 4,
 "nbformat_minor": 2
}
