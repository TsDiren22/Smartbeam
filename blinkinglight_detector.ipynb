{
 "cells": [
  {
   "cell_type": "code",
   "execution_count": 22,
   "metadata": {},
   "outputs": [
    {
     "name": "stdout",
     "output_type": "stream",
     "text": [
      "Number of blinking lights: 0\n"
     ]
    }
   ],
   "source": [
    "import cv2\n",
    "import numpy as np\n",
    "\n",
    "# Function to extract ROIs with blinking lights\n",
    "def extract_blinking_lights(image_path):\n",
    "    # Load the image\n",
    "    img = cv2.imread(image_path)\n",
    "\n",
    "    if img is None:\n",
    "        print(f\"Error: Unable to load image from {image_path}\")\n",
    "        return None\n",
    "\n",
    "    # Convert the image to HSV color space\n",
    "    hsv = cv2.cvtColor(img, cv2.COLOR_BGR2HSV)\n",
    "\n",
    "    # Define the color range for the lights (adjust these values based on your scenario)\n",
    "    lower_color = np.array([180, 3, 80], dtype=np.uint8)\n",
    "    upper_color = np.array([200, 4, 100], dtype=np.uint8)\n",
    "\n",
    "    # Create a mask based on color range\n",
    "    mask = cv2.inRange(hsv, lower_color, upper_color)\n",
    "\n",
    "    # Apply the mask to the original image\n",
    "    result = cv2.bitwise_and(img, img, mask=mask)\n",
    "\n",
    "    # Find contours in the masked image\n",
    "    contours, _ = cv2.findContours(mask, cv2.RETR_EXTERNAL, cv2.CHAIN_APPROX_SIMPLE)\n",
    "\n",
    "    # Extract ROIs based on contours\n",
    "    rois = []\n",
    "    for contour in contours:\n",
    "        x, y, w, h = cv2.boundingRect(contour)\n",
    "        roi = img[y:y+h, x:x+w]\n",
    "        rois.append(roi)\n",
    "\n",
    "    return rois, result  # Return both the ROIs and the result image\n",
    "\n",
    "image_path = 'labeled_frames\\\\vid8.mp4_00000_4.jpg'\n",
    "rois, result_image = extract_blinking_lights(image_path)\n",
    "\n",
    "if rois is not None:\n",
    "    # Display the original image\n",
    "    # cv2.imshow('Original Image', cv2.imread(image_path))\n",
    "\n",
    "    # Display the extracted ROIs\n",
    "    # for i, roi in enumerate(rois):\n",
    "    #     cv2.imshow(f'ROI {i+1}', roi)\n",
    "\n",
    "    # Display the result image\n",
    "    cv2.imshow('Result Image', result_image)\n",
    "    light_count = len(rois)\n",
    "    print(f'Number of blinking lights: {light_count}')\n",
    "\n",
    "    cv2.waitKey(0)\n",
    "    cv2.destroyAllWindows()\n"
   ]
  },
  {
   "cell_type": "code",
   "execution_count": 36,
   "metadata": {},
   "outputs": [
    {
     "name": "stdout",
     "output_type": "stream",
     "text": [
      "x: 56, y: 378, w: 38, h: 44\n",
      "x: 565, y: 360, w: 30, h: 30\n",
      "x: 709, y: 107, w: 30, h: 31\n",
      "x: 205, y: 105, w: 30, h: 31\n"
     ]
    },
    {
     "name": "stdout",
     "output_type": "stream",
     "text": [
      "Number of blinking lights: 4\n"
     ]
    }
   ],
   "source": [
    "import cv2\n",
    "import numpy as np\n",
    "\n",
    "# Function to extract ROIs with blinking lights\n",
    "def extract_blinking_lights(image_path):\n",
    "    # Load the image\n",
    "    img = cv2.imread(image_path)\n",
    "\n",
    "    if img is None:\n",
    "        print(f\"Error: Unable to load image from {image_path}\")\n",
    "    else:\n",
    "        # Convert the image to grayscale\n",
    "        gray = cv2.cvtColor(img, cv2.COLOR_BGR2GRAY)\n",
    "        \n",
    "        # Apply thresholding to highlight the lights\n",
    "        _, thresholded = cv2.threshold(gray, 200, 255, cv2.THRESH_BINARY)\n",
    "\n",
    "        \n",
    "        # Find contours in the thresholded image\n",
    "        contours, _ = cv2.findContours(thresholded, cv2.RETR_EXTERNAL, cv2.CHAIN_APPROX_SIMPLE)\n",
    "        \n",
    "        # Extract ROIs based on contours\n",
    "        rois = []\n",
    "        for contour in contours:\n",
    "            x, y, w, h = cv2.boundingRect(contour)\n",
    "            w = w + 20\n",
    "            h = h + 20\n",
    "            x = x - 10\n",
    "            y = y - 10\n",
    "            print(f'x: {x}, y: {y}, w: {w}, h: {h}')\n",
    "            roi = img[y:y+h, x:x+w]\n",
    "            rois.append(roi)\n",
    "        \n",
    "        return rois\n",
    "\n",
    "# Example usage\n",
    "image_path_newlights = 'labeled_frames_test\\\\test.mp4_00000_2.jpg'\n",
    "image_path_blacklights = 'labeled_frames\\\\vid8.mp4_00000_4.jpg'\n",
    "image_path_oldlights = 'labeled_frames_test\\\\vid7.mp4_00000_4.jpg'\n",
    "rois = extract_blinking_lights(image_path_blacklights)\n",
    "\n",
    "# Display the original image and extracted ROIs\n",
    "cv2.imshow('Original Image', cv2.imread(image_path_blacklights))\n",
    "light_count = len(rois)\n",
    "for i, roi in enumerate(rois):\n",
    "    cv2.imshow(f'ROI {i+1}', roi)\n",
    "print(f'Number of blinking lights: {light_count}')\n",
    "cv2.waitKey(0)\n",
    "cv2.destroyAllWindows()\n"
   ]
  },
  {
   "cell_type": "code",
   "execution_count": null,
   "metadata": {},
   "outputs": [],
   "source": []
  }
 ],
 "metadata": {
  "kernelspec": {
   "display_name": "smartbeam",
   "language": "python",
   "name": "python3"
  },
  "language_info": {
   "codemirror_mode": {
    "name": "ipython",
    "version": 3
   },
   "file_extension": ".py",
   "mimetype": "text/x-python",
   "name": "python",
   "nbconvert_exporter": "python",
   "pygments_lexer": "ipython3",
   "version": "3.11.5"
  }
 },
 "nbformat": 4,
 "nbformat_minor": 2
}
