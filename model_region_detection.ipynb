{
 "cells": [
  {
   "cell_type": "code",
   "execution_count": 1,
   "metadata": {},
   "outputs": [
    {
     "name": "stdout",
     "output_type": "stream",
     "text": [
      "WARNING:tensorflow:From c:\\Users\\Justin\\anaconda3\\envs\\beam\\Lib\\site-packages\\keras\\src\\losses.py:2976: The name tf.losses.sparse_softmax_cross_entropy is deprecated. Please use tf.compat.v1.losses.sparse_softmax_cross_entropy instead.\n",
      "\n"
     ]
    }
   ],
   "source": [
    "from tensorflow.keras import layers, models\n",
    "from tensorflow.keras.optimizers import Adam\n",
    "import tensorflow as tf\n",
    "from sklearn.model_selection import train_test_split\n",
    "from sklearn.utils import shuffle\n",
    "import os\n",
    "from glob import glob\n",
    "import cv2\n",
    "import numpy as np"
   ]
  },
  {
   "cell_type": "code",
   "execution_count": 2,
   "metadata": {},
   "outputs": [],
   "source": [
    "# Load labeled frames and their corresponding labels\n",
    "def load_labeled_frames(data_folder):\n",
    "    images = []\n",
    "    labels = []\n",
    "\n",
    "    for image_path in glob(os.path.join(data_folder, '*.jpg')):\n",
    "        image = cv2.imread(image_path)\n",
    "        image = cv2.resize(image, (100, 100))\n",
    "\n",
    "        label = os.path.splitext(os.path.basename(image_path))[0].split('_')[-1]\n",
    "\n",
    "        images.append(image)\n",
    "\n",
    "        if label == '0':\n",
    "            labels.append(0)\n",
    "        elif label == '1':\n",
    "            labels.append(1)\n",
    "\n",
    "    return images, labels\n",
    "\n",
    "# Preprocess the data\n",
    "def preprocess_data(images, labels):\n",
    "    images = np.array(images)\n",
    "    labels = np.array(labels)\n",
    "\n",
    "    # Normalize pixel values to be between 0 and 1\n",
    "    images = images / 255.0\n",
    "\n",
    "    # Shuffle and split the data into training and testing sets\n",
    "    images, labels = shuffle(images, labels, random_state=46)\n",
    "    X_train, X_test, y_train, y_test = train_test_split(images, labels, test_size=0.2, random_state=45)\n",
    "\n",
    "    return X_train, X_test, y_train, y_test"
   ]
  },
  {
   "cell_type": "code",
   "execution_count": 8,
   "metadata": {},
   "outputs": [],
   "source": [
    "# Example usage\n",
    "output_folder = 'labeled_frames_binary_test'\n",
    "\n",
    "# Load labeled frames and their corresponding labels\n",
    "images, labels = load_labeled_frames(output_folder)\n",
    "\n",
    "# Preprocess the data\n",
    "X_train, X_test, y_train, y_test = preprocess_data(images, labels)\n",
    "\n",
    "input_shape = X_train[0].shape"
   ]
  },
  {
   "cell_type": "code",
   "execution_count": 9,
   "metadata": {},
   "outputs": [
    {
     "data": {
      "text/plain": [
       "array([0, 0, 1, 1, 1, 0, 0, 1, 1, 1, 0, 0, 1, 1, 0, 1, 0, 0, 0])"
      ]
     },
     "execution_count": 9,
     "metadata": {},
     "output_type": "execute_result"
    }
   ],
   "source": [
    "y_train"
   ]
  },
  {
   "cell_type": "code",
   "execution_count": 13,
   "metadata": {},
   "outputs": [
    {
     "name": "stdout",
     "output_type": "stream",
     "text": [
      "Epoch 1/10\n",
      "1/1 [==============================] - 1s 760ms/step - loss: 0.7133 - accuracy: 0.5263 - auc: 0.0167 - val_loss: 0.5927 - val_accuracy: 0.6000 - val_auc: 0.6667\n",
      "Epoch 2/10\n",
      "1/1 [==============================] - 0s 61ms/step - loss: 0.7409 - accuracy: 0.4737 - auc: 0.7556 - val_loss: 0.5588 - val_accuracy: 0.8000 - val_auc: 0.6667\n",
      "Epoch 3/10\n",
      "1/1 [==============================] - 0s 63ms/step - loss: 0.6647 - accuracy: 0.6316 - auc: 0.7556 - val_loss: 0.5490 - val_accuracy: 0.8000 - val_auc: 0.8333\n",
      "Epoch 4/10\n",
      "1/1 [==============================] - 0s 65ms/step - loss: 0.5944 - accuracy: 0.6316 - auc: 0.8833 - val_loss: 0.5759 - val_accuracy: 0.8000 - val_auc: 1.0000\n",
      "Epoch 5/10\n",
      "1/1 [==============================] - 0s 63ms/step - loss: 0.5781 - accuracy: 0.6842 - auc: 1.0000 - val_loss: 0.5680 - val_accuracy: 1.0000 - val_auc: 1.0000\n",
      "Epoch 6/10\n",
      "1/1 [==============================] - 0s 66ms/step - loss: 0.5566 - accuracy: 1.0000 - auc: 1.0000 - val_loss: 0.5179 - val_accuracy: 0.8000 - val_auc: 1.0000\n",
      "Epoch 7/10\n",
      "1/1 [==============================] - 0s 64ms/step - loss: 0.5140 - accuracy: 0.7895 - auc: 0.9500 - val_loss: 0.4815 - val_accuracy: 0.8000 - val_auc: 1.0000\n",
      "Epoch 8/10\n",
      "1/1 [==============================] - 0s 62ms/step - loss: 0.4878 - accuracy: 0.6316 - auc: 0.8944 - val_loss: 0.4514 - val_accuracy: 1.0000 - val_auc: 1.0000\n",
      "Epoch 9/10\n",
      "1/1 [==============================] - 0s 64ms/step - loss: 0.4464 - accuracy: 0.7895 - auc: 0.9222 - val_loss: 0.4254 - val_accuracy: 1.0000 - val_auc: 1.0000\n",
      "Epoch 10/10\n",
      "1/1 [==============================] - 0s 63ms/step - loss: 0.3912 - accuracy: 0.8947 - auc: 1.0000 - val_loss: 0.4103 - val_accuracy: 1.0000 - val_auc: 1.0000\n"
     ]
    }
   ],
   "source": [
    "# Build the model\n",
    "model = models.Sequential()\n",
    "model.add(layers.Conv2D(64, (3, 3), activation='relu', input_shape=input_shape))\n",
    "model.add(layers.MaxPooling2D((2, 2)))\n",
    "model.add(layers.Conv2D(32, (3, 3), activation='relu'))\n",
    "model.add(layers.Flatten())\n",
    "model.add(layers.Dense(1, activation='sigmoid')) \n",
    "\n",
    "# Compile the model\n",
    "model.compile(optimizer=Adam(),\n",
    "              loss='binary_crossentropy',  # Use binary crossentropy for binary classification\n",
    "              metrics=['accuracy', 'AUC'])\n",
    "\n",
    "# Train the model\n",
    "history = model.fit(X_train, y_train, epochs=10, validation_data=(X_test, y_test))\n"
   ]
  },
  {
   "cell_type": "code",
   "execution_count": 14,
   "metadata": {},
   "outputs": [
    {
     "name": "stdout",
     "output_type": "stream",
     "text": [
      "1/1 - 0s - loss: 0.4103 - accuracy: 1.0000 - auc: 1.0000 - 22ms/epoch - 22ms/step\n",
      "\n",
      "Test AUC: 1.0\n"
     ]
    }
   ],
   "source": [
    "# Evaluate the model\n",
    "test_loss, test_acc, test_auc = model.evaluate(X_test, y_test, verbose=2)\n",
    "\n",
    "print('\\nTest AUC:', test_auc)"
   ]
  },
  {
   "cell_type": "code",
   "execution_count": null,
   "metadata": {},
   "outputs": [],
   "source": [
    "import pickle\n",
    "\n",
    "directory = 'testing_binary_class_classification/'\n",
    "\n",
    "model.save(directory + 'testing_binary_class_classification_model_Adam.h5')\n",
    "\n",
    "with open(directory + 'testing_binary_class_classification_model_Adam_history', 'wb') as file_pi:\n",
    "    pickle.dump(history, file_pi)\n",
    "\n",
    "with open(directory + 'testing_binary_class_classification_model_Adam_X_test', 'wb') as file_pi:\n",
    "    pickle.dump(X_test, file_pi)\n",
    "\n",
    "with open(directory + 'testing_binary_class_classification_model_Adam_y_test', 'wb') as file_pi:\n",
    "    pickle.dump(y_test, file_pi)"
   ]
  }
 ],
 "metadata": {
  "kernelspec": {
   "display_name": "beam",
   "language": "python",
   "name": "python3"
  },
  "language_info": {
   "codemirror_mode": {
    "name": "ipython",
    "version": 3
   },
   "file_extension": ".py",
   "mimetype": "text/x-python",
   "name": "python",
   "nbconvert_exporter": "python",
   "pygments_lexer": "ipython3",
   "version": "3.11.6"
  }
 },
 "nbformat": 4,
 "nbformat_minor": 2
}
