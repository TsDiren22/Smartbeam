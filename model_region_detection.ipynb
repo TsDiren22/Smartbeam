{
 "cells": [
  {
   "cell_type": "code",
   "execution_count": null,
   "metadata": {},
   "outputs": [],
   "source": [
    "from tensorflow.keras import layers, models\n",
    "from tensorflow.keras.optimizers import Adam\n",
    "import tensorflow as tf\n",
    "from sklearn.model_selection import train_test_split\n",
    "from sklearn.utils import shuffle\n",
    "import os\n",
    "from glob import glob\n",
    "import cv2\n",
    "import numpy as np"
   ]
  },
  {
   "cell_type": "code",
   "execution_count": null,
   "metadata": {},
   "outputs": [],
   "source": [
    "# Load labeled frames and their corresponding labels\n",
    "def load_labeled_frames(data_folder):\n",
    "    images = []\n",
    "    labels = []\n",
    "\n",
    "    for image_path in glob(os.path.join(data_folder, '*.jpg')):\n",
    "        image = cv2.imread(image_path)\n",
    "        image = cv2.resize(image, (100, 100))\n",
    "\n",
    "        label = os.path.splitext(os.path.basename(image_path))[0].split('_')[-1]\n",
    "\n",
    "        images.append(image)\n",
    "\n",
    "        if label == '0':\n",
    "            labels.append(0)\n",
    "        elif label == '1':\n",
    "            labels.append(1)\n",
    "\n",
    "    return images, labels\n",
    "\n",
    "# Preprocess the data\n",
    "def preprocess_data(images, labels):\n",
    "    images = np.array(images)\n",
    "    labels = np.array(labels)\n",
    "\n",
    "    # Normalize pixel values to be between 0 and 1\n",
    "    images = images / 255.0\n",
    "\n",
    "    # Shuffle and split the data into training and testing sets\n",
    "    images, labels = shuffle(images, labels, random_state=46)\n",
    "    X_train, X_test, y_train, y_test = train_test_split(images, labels, test_size=0.2, random_state=45)\n",
    "\n",
    "    return X_train, X_test, y_train, y_test"
   ]
  },
  {
   "cell_type": "code",
   "execution_count": null,
   "metadata": {},
   "outputs": [],
   "source": [
    "# Example usage\n",
    "output_folder = 'labeled_frames'\n",
    "output_folder2 = 'labeled_frames_test'\n",
    "\n",
    "# Load labeled frames and their corresponding labels\n",
    "images, labels = load_labeled_frames(output_folder)\n",
    "images2, labels2 = load_labeled_frames(output_folder2)\n",
    "\n",
    "# Preprocess the data\n",
    "X_train, X_test, y_train, y_test = preprocess_data(images, labels)\n",
    "\n",
    "input_shape = X_train[0].shape\n",
    "\n",
    "# Convert labels to one-hot encoding\n",
    "y_train_one_hot = tf.keras.utils.to_categorical(y_train, num_classes=2)\n",
    "y_test_one_hot = tf.keras.utils.to_categorical(y_test, num_classes=2)"
   ]
  },
  {
   "cell_type": "code",
   "execution_count": null,
   "metadata": {},
   "outputs": [],
   "source": [
    "# Build the model\n",
    "model = models.Sequential()\n",
    "model.add(layers.Conv2D(64, (3, 3), activation='relu', input_shape=input_shape))\n",
    "model.add(layers.MaxPooling2D((2, 2)))\n",
    "model.add(layers.Conv2D(32, (3, 3), activation='relu'))\n",
    "model.add(layers.Flatten())\n",
    "model.add(layers.Dense(1, activation='sigmoid')) \n",
    "\n",
    "# Compile the model\n",
    "model.compile(optimizer=Adam(learning_rate=0.001),\n",
    "              loss='binary_crossentropy',  # Use categorical crossentropy for multiclass classification\n",
    "              metrics=['accuracy', 'AUC', 'MeanSquaredError'])\n",
    "\n",
    "# Train the model\n",
    "history = model.fit(X_train, y_train_one_hot, epochs=10, validation_data=(X_test, y_test_one_hot))\n"
   ]
  },
  {
   "cell_type": "code",
   "execution_count": null,
   "metadata": {},
   "outputs": [],
   "source": [
    "import pickle\n",
    "\n",
    "directory = 'testing_binary_class_classification/'\n",
    "\n",
    "model.save(directory + 'testing_binary_class_classification_model_Adam.h5')\n",
    "\n",
    "with open(directory + 'testing_binary_class_classification_model_Adam_history', 'wb') as file_pi:\n",
    "    pickle.dump(history, file_pi)\n",
    "\n",
    "with open(directory + 'testing_binary_class_classification_model_Adam_X_test', 'wb') as file_pi:\n",
    "    pickle.dump(X_test, file_pi)\n",
    "\n",
    "with open(directory + 'testing_binary_class_classification_model_Adam_y_test', 'wb') as file_pi:\n",
    "    pickle.dump(y_test_one_hot, file_pi)"
   ]
  }
 ],
 "metadata": {
  "language_info": {
   "name": "python"
  }
 },
 "nbformat": 4,
 "nbformat_minor": 2
}
